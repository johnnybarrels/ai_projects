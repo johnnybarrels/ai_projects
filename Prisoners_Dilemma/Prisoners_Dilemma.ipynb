{
 "cells": [
  {
   "cell_type": "code",
   "execution_count": 3,
   "metadata": {},
   "outputs": [],
   "source": [
    "import random\n",
    "from matplotlib import pyplot as plt\n",
    "plt.rcParams.update({'font.size': 18})"
   ]
  },
  {
   "cell_type": "markdown",
   "metadata": {},
   "source": [
    "___\n",
    "# Game Theory: Prisoner's Dilemma\n",
    "The purpose of this small project is to demonstrate game theory by use of the classic *Prisoner's Dilemma*. Here we compare the effectiveness of multiple prisoner's dilemma strategies.\n",
    "\n",
    "The different strategies are:\n",
    "- Cooperator( ):  Always cooperate\n",
    "- Defector( ):  Always defect\n",
    "- TitForTatter( ):  Always play the opponents previous move\n",
    "- Grudger( ):  Cooperate until the opponent defects once, then always defect\n",
    "- Alternator( ):  Cooperate, defect, cooperate, defect....etc\n",
    "- Extortionist( ):  Moved determined by a probability; probability determined by the outcome of the previous round\n",
    "\n",
    "This program uses the __*lowest score wins*__ methodology (least years in prison)."
   ]
  },
  {
   "cell_type": "markdown",
   "metadata": {},
   "source": [
    "### 1. Initialising Game and Player classes"
   ]
  },
  {
   "cell_type": "code",
   "execution_count": 4,
   "metadata": {},
   "outputs": [],
   "source": [
    "class Game:\n",
    "    \"\"\"A class to hold the game matrix and to score a game accordingly.\"\"\"\n",
    "\n",
    "    def __init__(self, r=1, s=5, t=0, p=3):\n",
    "        self.scores = {\n",
    "            ('C', 'C'): (r, r),\n",
    "            ('D', 'D'): (p, p),\n",
    "            ('C', 'D'): (s, t),\n",
    "            ('D', 'C'): (t, s),\n",
    "        }\n",
    "\n",
    "    def score(self, pair):\n",
    "        \"\"\"Returns the appropriate score (as a tuple) from the scores dictionary\"\"\"\n",
    "        return self.scores[pair]"
   ]
  },
  {
   "cell_type": "code",
   "execution_count": 5,
   "metadata": {},
   "outputs": [],
   "source": [
    "class Player:\n",
    "    \"\"\"This is an abstract base class, not intended to be used directly.\"\"\"\n",
    "    def __init__(self):\n",
    "        \"\"\"Initiates an empty history and 0 score for a player\"\"\"\n",
    "        self.history = []\n",
    "        self.score = 0\n",
    "\n",
    "    def strategy(self, opponent):\n",
    "        \"\"\"This is a placeholder strategy.\"\"\"\n",
    "        return None\n",
    "\n",
    "    def play(self, opponent):\n",
    "        \"\"\"This pits two players against each other.\"\"\"\n",
    "        self_move, opp_move = self.strategy(opponent), opponent.strategy(self)\n",
    "        self.history.append(self_move)\n",
    "        opponent.history.append(opp_move)\n",
    "        return self_move, opp_move"
   ]
  },
  {
   "cell_type": "markdown",
   "metadata": {},
   "source": [
    "### 2. Different strategy classes\n",
    "Now we create multiple different Player classes, each utilising a different strategy"
   ]
  },
  {
   "cell_type": "code",
   "execution_count": 6,
   "metadata": {},
   "outputs": [],
   "source": [
    "class Cooperator(Player):\n",
    "    \"\"\"A player who always cooperates\"\"\"\n",
    "    def strategy(self, opponent):\n",
    "        return \"C\"\n",
    "\n",
    "    def __repr__(self):  # str method for class\n",
    "        return \"Cooperator\""
   ]
  },
  {
   "cell_type": "code",
   "execution_count": 7,
   "metadata": {},
   "outputs": [],
   "source": [
    "class Defector(Player):\n",
    "    \"\"\"A player who always defects\"\"\"\n",
    "    def strategy(self, opponent):\n",
    "        return \"D\"\n",
    "\n",
    "    def __repr__(self):  # str method for class\n",
    "        return \"Defector\""
   ]
  },
  {
   "cell_type": "code",
   "execution_count": 8,
   "metadata": {},
   "outputs": [],
   "source": [
    "class TitForTatter(Player):\n",
    "    \"\"\"A player who starts by cooperating and then mimics previous move by opponent.\"\"\"\n",
    "    def strategy(self, opponent):\n",
    "        if opponent.history:\n",
    "            return opponent.history[-1]\n",
    "        return \"C\"\n",
    "\n",
    "    def __repr__(self):  # str method for class\n",
    "        return \"TitForTatter\""
   ]
  },
  {
   "cell_type": "code",
   "execution_count": 9,
   "metadata": {},
   "outputs": [],
   "source": [
    "class Grudger(Player):\n",
    "    \"\"\"A player who starts by cooperating however will defect if at any point the\n",
    "    opponent has defected.\"\"\"\n",
    "    def strategy(self, opponent):\n",
    "        if \"D\" in opponent.history:\n",
    "            return \"D\"\n",
    "        return \"C\"\n",
    "\n",
    "    def __repr__(self):  # str method for class\n",
    "        return \"Grudger\"\n"
   ]
  },
  {
   "cell_type": "code",
   "execution_count": 10,
   "metadata": {},
   "outputs": [],
   "source": [
    "class Alternator(Player):\n",
    "    \"\"\"A player who cooperates, then defects, then cooperates...etc\"\"\"\n",
    "    def strategy(self, opponent):\n",
    "        if len(self.history) % 2 == 0:\n",
    "            return \"C\"\n",
    "        else:\n",
    "            return \"D\"\n",
    "\n",
    "    def __repr__(self):  # str method for class\n",
    "        return \"Alternator\""
   ]
  },
  {
   "cell_type": "code",
   "execution_count": 11,
   "metadata": {},
   "outputs": [],
   "source": [
    "class Extortionist(Player):\n",
    "    \"\"\"A very clever player whose move depends on which of the\n",
    "    4 possible move pairs occured in the previous round.\n",
    "    Inspired by Press and Dyson's 'Extort-2' strategy (referenced below)\n",
    "    \"\"\"\n",
    "    def strategy(self, opponent):\n",
    "        if self.history:\n",
    "            if self.history[-1] == 'C':\n",
    "                if opponent.history[-1] == 'C':\n",
    "                    return 'C' if random.random() < (8 / 9) else 'D'\n",
    "                else:\n",
    "                    return 'C' if random.random() < (1 / 2) else 'D'\n",
    "            else:\n",
    "                if opponent.history[-1] == 'C':\n",
    "                    return 'C' if random.random() < (1 / 3) else 'D'\n",
    "            return 'D'\n",
    "        return 'C'\n",
    "\n",
    "    def __repr__(self):  # str method for class\n",
    "        return \"Extortionist\""
   ]
  },
  {
   "cell_type": "markdown",
   "metadata": {},
   "source": [
    "### 3. Plot function"
   ]
  },
  {
   "cell_type": "code",
   "execution_count": 12,
   "metadata": {},
   "outputs": [],
   "source": [
    "def make_plot(num_rounds, p1scores, p2scores, p1name, p2name):\n",
    "    \n",
    "    max_score = max(p1scores + p2scores)\n",
    "    x_ax = [x for x in range(1, num_rounds+1)]\n",
    "    \n",
    "    fig = plt.figure(figsize=(12,7))\n",
    "    ax = fig.add_subplot(111)\n",
    "    fig.patch.set_facecolor('white')\n",
    "\n",
    "    ax.plot(x_ax, p1scores, \"#5AC1CE\", linewidth=3, label=p1name)\n",
    "    ax.plot(x_ax, p2scores, \"#EA9262\", linewidth=3, label=p2name)\n",
    "    ax.set_xlabel('Round')\n",
    "    ax.set_ylabel('Score')\n",
    "        \n",
    "    plt.rc('grid', linestyle='dotted', color='darkgray')\n",
    "    \n",
    "    ax.legend()\n",
    "    plt.axis([1, num_rounds, 0, max_score])\n",
    "    plt.grid()\n",
    "    plt.show()"
   ]
  },
  {
   "cell_type": "markdown",
   "metadata": {},
   "source": [
    "### 4. Main"
   ]
  },
  {
   "cell_type": "code",
   "execution_count": 13,
   "metadata": {},
   "outputs": [],
   "source": [
    "def main(num_rounds, player1, player2, plot=False, watch=False):\n",
    "    \n",
    "    # altering these values will alter the number of \"years\" a prisoner will be sentenced to:\n",
    "    game = Game(r=1, s=5, t=0, p=3)\n",
    "\n",
    "    if watch:\n",
    "        print(f\"  Moves{str(player1):>20}   {str(player2)}\")\n",
    "\n",
    "    p1scores, p2scores = [], []  # Storing cumulative scores, purely for plot\n",
    "        \n",
    "    for ii in range(num_rounds):\n",
    "        p1scores.append(player1.score)\n",
    "        p2scores.append(player2.score)\n",
    "        \n",
    "        moves = player1.play(player2)\n",
    "        scores = game.score(moves)\n",
    "        player1.score += scores[0]\n",
    "        player2.score += scores[1]\n",
    "        \n",
    "        if watch:\n",
    "            print(f\"{moves} {player1.score:>15} {player2.score:>{len(str(player2))+2}}\")\n",
    "\n",
    "    if plot:\n",
    "        make_plot(num_rounds, p1scores, p2scores, str(player1), str(player2))\n",
    "     \n",
    "    print()\n",
    "    print(f\"{str(player1)+':':15} {player1.score}\")\n",
    "    print(f\"{str(player2)+':':15} {player2.score}\")\n",
    " \n",
    "    if player1.score < player2.score:\n",
    "        print(f\"\\n{str(player1)} is the winner!\")\n",
    "    elif player1.score > player2.score:\n",
    "        print(f\"\\n{str(player2)} is the winner!\")\n",
    "    else:\n",
    "        print(\"\\nGame was a draw!\")"
   ]
  },
  {
   "cell_type": "markdown",
   "metadata": {},
   "source": [
    "### 4. Run\n",
    "Alter the arguments in this main call to see the different strategies work against each other.\n",
    "\n",
    "Notes:  \n",
    "- __plot__ is set to False by default, you can opt to see a plot of the results by setting __plot=True__ in the call to main( )\n",
    "- Setting __watch=True__ will print the moves and scores for each round (don't use for large __num_rounds__ values!)  \n",
    "- You can also alter the \"years in prison\" a player will recieve, (see first comment in __main__ definition)"
   ]
  },
  {
   "cell_type": "code",
   "execution_count": 14,
   "metadata": {},
   "outputs": [
    {
     "name": "stdout",
     "output_type": "stream",
     "text": [
      "\n",
      "TitForTatter:   3002\n",
      "Defector:       2997\n",
      "\n",
      "Defector is the winner!\n"
     ]
    }
   ],
   "source": [
    "main(num_rounds=1000, player1=TitForTatter(), player2=Defector())"
   ]
  },
  {
   "cell_type": "code",
   "execution_count": 15,
   "metadata": {},
   "outputs": [
    {
     "name": "stdout",
     "output_type": "stream",
     "text": [
      "  Moves             Grudger   Extortionist\n",
      "('C', 'C')               1              1\n",
      "('C', 'C')               2              2\n",
      "('C', 'C')               3              3\n",
      "('C', 'C')               4              4\n",
      "('C', 'C')               5              5\n",
      "('C', 'C')               6              6\n",
      "('C', 'C')               7              7\n",
      "('C', 'D')              12              7\n",
      "('D', 'C')              12             12\n",
      "('D', 'C')              12             17\n",
      "('D', 'C')              12             22\n",
      "('D', 'D')              15             25\n",
      "\n",
      "Grudger:        15\n",
      "Extortionist:   25\n",
      "\n",
      "Grudger is the winner!\n"
     ]
    }
   ],
   "source": [
    "main(num_rounds=12, player1=Grudger(), player2=Extortionist(), watch=True)"
   ]
  },
  {
   "cell_type": "code",
   "execution_count": 18,
   "metadata": {},
   "outputs": [
    {
     "data": {
      "image/png": "[encoded data removed]",
      "text/plain": [
       "<Figure size 864x504 with 1 Axes>"
      ]
     },
     "metadata": {},
     "output_type": "display_data"
    },
    {
     "name": "stdout",
     "output_type": "stream",
     "text": [
      "\n",
      "Alternator:     110\n",
      "Extortionist:   65\n",
      "\n",
      "Extortionist is the winner!\n"
     ]
    }
   ],
   "source": [
    "main(num_rounds=35, player1=Alternator(), player2=Extortionist(), plot=True)"
   ]
  },
  {
   "cell_type": "markdown",
   "metadata": {},
   "source": [
    "___"
   ]
  },
  {
   "cell_type": "markdown",
   "metadata": {},
   "source": [
    "### References:\n",
    "- https://www.pnas.org/content/pnas/early/2012/05/16/1206569109.full.pdf\n",
    "- https://github.com/Axelrod-Python/Axelrod\n",
    "- https://www.researchgate.net/publication/235608431_Extortion_and_cooperation_in_the_Prisoner's_Dilemma\n",
    "\n",
    "<img src=\"extortionist.png\" style=\"width:400px;height:350px;float:left\"/>"
   ]
  }
 ],
 "metadata": {
  "kernelspec": {
   "display_name": "Python 3",
   "language": "python",
   "name": "python3"
  },
  "language_info": {
   "codemirror_mode": {
    "name": "ipython",
    "version": 3
   },
   "file_extension": ".py",
   "mimetype": "text/x-python",
   "name": "python",
   "nbconvert_exporter": "python",
   "pygments_lexer": "ipython3",
   "version": "3.7.4"
  },
  "varInspector": {
   "cols": {
    "lenName": 16,
    "lenType": 16,
    "lenVar": 40
   },
   "kernels_config": {
    "python": {
     "delete_cmd_postfix": "",
     "delete_cmd_prefix": "del ",
     "library": "var_list.py",
     "varRefreshCmd": "print(var_dic_list())"
    },
    "r": {
     "delete_cmd_postfix": ") ",
     "delete_cmd_prefix": "rm(",
     "library": "var_list.r",
     "varRefreshCmd": "cat(var_dic_list()) "
    }
   },
   "position": {
    "height": "144px",
    "left": "1197px",
    "right": "20px",
    "top": "169px",
    "width": "350px"
   },
   "types_to_exclude": [
    "module",
    "function",
    "builtin_function_or_method",
    "instance",
    "_Feature"
   ],
   "window_display": false
  }
 },
 "nbformat": 4,
 "nbformat_minor": 4
}
